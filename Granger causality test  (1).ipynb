{
 "cells": [
  {
   "cell_type": "markdown",
   "id": "6590f4ab",
   "metadata": {},
   "source": [
    "### Null Hypothesis (H0): Time series x does not Granger-cause time series y\n",
    "\n",
    "### Alternative Hypothesis (HA): Time series x Granger-causes time series y"
   ]
  },
  {
   "cell_type": "markdown",
   "id": "865b5a46",
   "metadata": {},
   "source": [
    "## ps5 buy online"
   ]
  },
  {
   "cell_type": "code",
   "execution_count": 2,
   "id": "0016f020",
   "metadata": {},
   "outputs": [],
   "source": [
    "import pandas as pd\n",
    "import numpy as np\n",
    "import matplotlib.pyplot as plt\n",
    "import seaborn as sns\n",
    "import numpy as np\n",
    "import matplotlib.pyplot as plt"
   ]
  },
  {
   "cell_type": "code",
   "execution_count": 3,
   "id": "b7e0d7be",
   "metadata": {},
   "outputs": [],
   "source": [
    "data=pd.read_csv('merged_data')"
   ]
  },
  {
   "cell_type": "code",
   "execution_count": 4,
   "id": "dba9fba4",
   "metadata": {},
   "outputs": [
    {
     "data": {
      "text/plain": [
       "Index(['Unnamed: 0', 'CALENDAR_DT', 'STD_SALES', 'DIG_SALES', 'TOTAL_SALES',\n",
       "       'Demons Souls: (United States)',\n",
       "       'playstation 5 buy online: (United States)',\n",
       "       'ps5 buy online: (United States)',\n",
       "       'sony ps5 buy online: (United States)',\n",
       "       'Destruction AllStars: (United States)', 'Returnal: (United States)',\n",
       "       'Ratchet & Clank: Rift Apart: (United States)',\n",
       "       'Forspoken: (United States)', 'TOTAL_SALES_MA', 'PlayStation_MA',\n",
       "       'TOTAL_SALES_SCALED', 'ps_5_MA', 'Forspoken_MA', 'Ratchet_MA'],\n",
       "      dtype='object')"
      ]
     },
     "execution_count": 4,
     "metadata": {},
     "output_type": "execute_result"
    }
   ],
   "source": [
    "data.columns"
   ]
  },
  {
   "cell_type": "markdown",
   "id": "d129f87c",
   "metadata": {},
   "source": [
    "### x- TOTAL_SALES_SCALED\n",
    "### y-ps5 buy online"
   ]
  },
  {
   "cell_type": "code",
   "execution_count": 11,
   "id": "7ebba358",
   "metadata": {},
   "outputs": [
    {
     "name": "stdout",
     "output_type": "stream",
     "text": [
      "\n",
      "Granger Causality\n",
      "number of lags (no zero) 3\n",
      "ssr based F test:         F=0.6354  , p=0.6001  , df_denom=22, df_num=3\n",
      "ssr based chi2 test:   chi2=2.5127  , p=0.4730  , df=3\n",
      "likelihood ratio test: chi2=2.4097  , p=0.4918  , df=3\n",
      "parameter F test:         F=0.6354  , p=0.6001  , df_denom=22, df_num=3\n"
     ]
    },
    {
     "data": {
      "text/plain": [
       "{3: ({'ssr_ftest': (0.6353944688313293, 0.6001273469910806, 22.0, 3),\n",
       "   'ssr_chi2test': (2.512696308560257, 0.4730009452100977, 3),\n",
       "   'lrtest': (2.409746069563255, 0.4918229735275651, 3),\n",
       "   'params_ftest': (0.6353944688313311, 0.6001273469910797, 22.0, 3.0)},\n",
       "  [<statsmodels.regression.linear_model.RegressionResultsWrapper at 0x257c09b9c00>,\n",
       "   <statsmodels.regression.linear_model.RegressionResultsWrapper at 0x257c09b9f00>,\n",
       "   array([[0., 0., 0., 1., 0., 0., 0.],\n",
       "          [0., 0., 0., 0., 1., 0., 0.],\n",
       "          [0., 0., 0., 0., 0., 1., 0.]])])}"
      ]
     },
     "execution_count": 11,
     "metadata": {},
     "output_type": "execute_result"
    }
   ],
   "source": [
    "from statsmodels.tsa.stattools import grangercausalitytests\n",
    "\n",
    "#perform Granger-Causality test\n",
    "grangercausalitytests(data[['TOTAL_SALES_SCALED', 'ps5 buy online: (United States)']], maxlag=[3])"
   ]
  },
  {
   "cell_type": "markdown",
   "id": "96165bc3",
   "metadata": {},
   "source": [
    "### The F test statistic turns out to be 0.6354 and the corresponding p-value is 0.6001.\n",
    "\n",
    "### Since the p-value is more than .05, we cannot reject the null hypothesis of the test and conclude that knowing that the sales scaled is not useful for predicting the future number of keywords.  (which is obvious)"
   ]
  },
  {
   "cell_type": "markdown",
   "id": "42500b9f",
   "metadata": {},
   "source": [
    "## Reverse\n",
    "\n",
    "### x-ps5 buy online\n",
    "### y-TOTAL_SALES_SCALED"
   ]
  },
  {
   "cell_type": "code",
   "execution_count": 12,
   "id": "5ca75832",
   "metadata": {},
   "outputs": [
    {
     "name": "stdout",
     "output_type": "stream",
     "text": [
      "\n",
      "Granger Causality\n",
      "number of lags (no zero) 3\n",
      "ssr based F test:         F=7.4664  , p=0.0013  , df_denom=22, df_num=3\n",
      "ssr based chi2 test:   chi2=29.5261 , p=0.0000  , df=3\n",
      "likelihood ratio test: chi2=20.3631 , p=0.0001  , df=3\n",
      "parameter F test:         F=7.4664  , p=0.0013  , df_denom=22, df_num=3\n"
     ]
    },
    {
     "data": {
      "text/plain": [
       "{3: ({'ssr_ftest': (7.4663582115512614, 0.0012627575367115337, 22.0, 3),\n",
       "   'ssr_chi2test': (29.526052927498167, 1.7360699114799869e-06, 3),\n",
       "   'lrtest': (20.36310905472385, 0.00014272828445117863, 3),\n",
       "   'params_ftest': (7.466358211551263, 0.0012627575367115337, 22.0, 3.0)},\n",
       "  [<statsmodels.regression.linear_model.RegressionResultsWrapper at 0x257c09b9f90>,\n",
       "   <statsmodels.regression.linear_model.RegressionResultsWrapper at 0x257c09ba410>,\n",
       "   array([[0., 0., 0., 1., 0., 0., 0.],\n",
       "          [0., 0., 0., 0., 1., 0., 0.],\n",
       "          [0., 0., 0., 0., 0., 1., 0.]])])}"
      ]
     },
     "execution_count": 12,
     "metadata": {},
     "output_type": "execute_result"
    }
   ],
   "source": [
    "grangercausalitytests(data[['ps5 buy online: (United States)', 'TOTAL_SALES_SCALED']], maxlag=[3])"
   ]
  },
  {
   "cell_type": "markdown",
   "id": "2e12386f",
   "metadata": {},
   "source": [
    "### The F test statistic turns out to be 7.4664 and the corresponding p-value is 0.0013.\n",
    "### Since the p-value is less than .05, we can reject the null hypothesis of the test and conclude that knowing that the number of keywords is  useful for predicting the future sales. "
   ]
  },
  {
   "cell_type": "markdown",
   "id": "f38fa621",
   "metadata": {},
   "source": [
    "## Forspoken"
   ]
  },
  {
   "cell_type": "markdown",
   "id": "074cb06d",
   "metadata": {},
   "source": [
    "## Reverse\n",
    "\n",
    "### x-Forspoken\n",
    "### y-TOTAL_SALES_SCALED"
   ]
  },
  {
   "cell_type": "code",
   "execution_count": 16,
   "id": "1fab8955",
   "metadata": {},
   "outputs": [
    {
     "name": "stdout",
     "output_type": "stream",
     "text": [
      "\n",
      "Granger Causality\n",
      "number of lags (no zero) 3\n",
      "ssr based F test:         F=6.9581  , p=0.0018  , df_denom=22, df_num=3\n",
      "ssr based chi2 test:   chi2=27.5160 , p=0.0000  , df=3\n",
      "likelihood ratio test: chi2=19.3496 , p=0.0002  , df=3\n",
      "parameter F test:         F=6.9581  , p=0.0018  , df_denom=22, df_num=3\n"
     ]
    },
    {
     "data": {
      "text/plain": [
       "{3: ({'ssr_ftest': (6.958063971113967, 0.0018269186584668178, 22.0, 3),\n",
       "   'ssr_chi2test': (27.515980249405235, 4.588961413577411e-06, 3),\n",
       "   'lrtest': (19.349600528990322, 0.00023146296318898862, 3),\n",
       "   'params_ftest': (6.958063971113961, 0.0018269186584668256, 22.0, 3.0)},\n",
       "  [<statsmodels.regression.linear_model.RegressionResultsWrapper at 0x257c2cf93c0>,\n",
       "   <statsmodels.regression.linear_model.RegressionResultsWrapper at 0x257c2cfa200>,\n",
       "   array([[0., 0., 0., 1., 0., 0., 0.],\n",
       "          [0., 0., 0., 0., 1., 0., 0.],\n",
       "          [0., 0., 0., 0., 0., 1., 0.]])])}"
      ]
     },
     "execution_count": 16,
     "metadata": {},
     "output_type": "execute_result"
    }
   ],
   "source": [
    "grangercausalitytests(data[['Forspoken: (United States)', 'TOTAL_SALES_SCALED']], maxlag=[3])"
   ]
  },
  {
   "cell_type": "markdown",
   "id": "ed13f468",
   "metadata": {},
   "source": [
    "### The F test statistic turns out to be 6.9581 and the corresponding p-value is 0.0018.\n",
    "### Since the p-value is less than .05, we can reject the null hypothesis of the test and conclude that knowing that the number of keywords is  useful for predicting the future sales. "
   ]
  },
  {
   "cell_type": "markdown",
   "id": "52551072",
   "metadata": {},
   "source": [
    "## Ratchet & Clank: Rift Apart"
   ]
  },
  {
   "cell_type": "markdown",
   "id": "e30bfbaf",
   "metadata": {},
   "source": [
    "## Reverse\n",
    "\n",
    "### x-Ratchet & Clank: Rift Apart\n",
    "### y-TOTAL_SALES_SCALED"
   ]
  },
  {
   "cell_type": "code",
   "execution_count": 22,
   "id": "a6b386d2",
   "metadata": {},
   "outputs": [
    {
     "name": "stdout",
     "output_type": "stream",
     "text": [
      "\n",
      "Granger Causality\n",
      "number of lags (no zero) 2\n",
      "ssr based F test:         F=4.5006  , p=0.0214  , df_denom=25, df_num=2\n",
      "ssr based chi2 test:   chi2=10.8014 , p=0.0045  , df=2\n",
      "likelihood ratio test: chi2=9.2255  , p=0.0099  , df=2\n",
      "parameter F test:         F=4.5006  , p=0.0214  , df_denom=25, df_num=2\n"
     ]
    },
    {
     "data": {
      "text/plain": [
       "{2: ({'ssr_ftest': (4.500569776380294, 0.021408276207513503, 25.0, 2),\n",
       "   'ssr_chi2test': (10.801367463312706, 0.004513493868729055, 2),\n",
       "   'lrtest': (9.225546463319006, 0.009924257843686888, 2),\n",
       "   'params_ftest': (4.500569776380308, 0.021408276207513306, 25.0, 2.0)},\n",
       "  [<statsmodels.regression.linear_model.RegressionResultsWrapper at 0x257c2d981c0>,\n",
       "   <statsmodels.regression.linear_model.RegressionResultsWrapper at 0x257c2d98430>,\n",
       "   array([[0., 0., 1., 0., 0.],\n",
       "          [0., 0., 0., 1., 0.]])])}"
      ]
     },
     "execution_count": 22,
     "metadata": {},
     "output_type": "execute_result"
    }
   ],
   "source": [
    "grangercausalitytests(data[['Ratchet & Clank: Rift Apart: (United States)', 'TOTAL_SALES_SCALED']], maxlag=[2])"
   ]
  },
  {
   "cell_type": "markdown",
   "id": "99ca6e3e",
   "metadata": {},
   "source": [
    "### The F test statistic turns out to be 4.5006 and the corresponding p-value is 0.0214.\n",
    "### Since the p-value is less than .05, we can reject the null hypothesis of the test and conclude that knowing that the number of keywords is  useful for predicting the future sales. "
   ]
  },
  {
   "cell_type": "code",
   "execution_count": null,
   "id": "d63d82e4",
   "metadata": {},
   "outputs": [],
   "source": []
  }
 ],
 "metadata": {
  "kernelspec": {
   "display_name": "Python 3 (ipykernel)",
   "language": "python",
   "name": "python3"
  },
  "language_info": {
   "codemirror_mode": {
    "name": "ipython",
    "version": 3
   },
   "file_extension": ".py",
   "mimetype": "text/x-python",
   "name": "python",
   "nbconvert_exporter": "python",
   "pygments_lexer": "ipython3",
   "version": "3.10.11"
  }
 },
 "nbformat": 4,
 "nbformat_minor": 5
}
